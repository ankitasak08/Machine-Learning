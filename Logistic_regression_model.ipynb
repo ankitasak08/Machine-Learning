{
  "nbformat": 4,
  "nbformat_minor": 0,
  "metadata": {
    "colab": {
      "provenance": []
    },
    "kernelspec": {
      "name": "python3",
      "display_name": "Python 3"
    },
    "language_info": {
      "name": "python"
    }
  },
  "cells": [
    {
      "cell_type": "code",
      "execution_count": 51,
      "metadata": {
        "id": "T-iYa-6Bguo_"
      },
      "outputs": [],
      "source": [
        "import numpy as np\n",
        "import urllib.request\n",
        "import matplotlib.pyplot as plt\n",
        "import copy\n",
        "import math\n",
        "\n",
        "%matplotlib inline"
      ]
    },
    {
      "cell_type": "code",
      "source": [
        "def load_data(url):\n",
        "    response = urllib.request.urlopen(url)\n",
        "    data = np.genfromtxt(response, delimiter=',')\n",
        "    X_train = data[:, :2]\n",
        "    y_train = data[:, 2]\n",
        "    return X_train, y_train\n",
        "github_raw_url = 'https://raw.githubusercontent.com/ankitasak08/Machine-Learning/main/logisticregression/data.txt'\n",
        "X_train, y_train = load_data(github_raw_url)"
      ],
      "metadata": {
        "id": "m4GzLHuJh4YR"
      },
      "execution_count": 52,
      "outputs": []
    },
    {
      "cell_type": "code",
      "source": [
        "print(\"First five elements in X_train are:\\n\", X_train[:5])"
      ],
      "metadata": {
        "colab": {
          "base_uri": "https://localhost:8080/"
        },
        "id": "kB8_j5i4ia6C",
        "outputId": "be89096f-d42e-4525-a825-52b5a5415f4a"
      },
      "execution_count": 53,
      "outputs": [
        {
          "output_type": "stream",
          "name": "stdout",
          "text": [
            "First five elements in X_train are:\n",
            " [[34.62365962 78.02469282]\n",
            " [30.28671077 43.89499752]\n",
            " [35.84740877 72.90219803]\n",
            " [60.18259939 86.3085521 ]\n",
            " [79.03273605 75.34437644]]\n"
          ]
        }
      ]
    },
    {
      "cell_type": "code",
      "source": [
        "print(\"First five elements in y_train are:\\n\", y_train[:5])"
      ],
      "metadata": {
        "colab": {
          "base_uri": "https://localhost:8080/"
        },
        "id": "I4BFzimEijl-",
        "outputId": "7d8c01df-6d8e-418c-beb0-f1839a7287b0"
      },
      "execution_count": 10,
      "outputs": [
        {
          "output_type": "stream",
          "name": "stdout",
          "text": [
            "First five elements in y_train are:\n",
            " [0. 0. 0. 1. 1.]\n"
          ]
        }
      ]
    },
    {
      "cell_type": "code",
      "source": [
        "print ('Dimension of X_train: ' + str(X_train.shape))\n",
        "print ('Dimension of y_train is: ' + str(y_train.shape))\n",
        "print ('Number of training examples m = %d' % (len(y_train)))"
      ],
      "metadata": {
        "colab": {
          "base_uri": "https://localhost:8080/"
        },
        "id": "GXdzpcWuip8u",
        "outputId": "83d9cee4-b8d1-463b-a36d-397a97c0addd"
      },
      "execution_count": 11,
      "outputs": [
        {
          "output_type": "stream",
          "name": "stdout",
          "text": [
            "Dimension of X_train: (100, 2)\n",
            "Dimension of y_train is: (100,)\n",
            "Number of training examples m = 100\n"
          ]
        }
      ]
    },
    {
      "cell_type": "code",
      "source": [
        "def plot_data(X, y, pos_label=\"y=1\", neg_label=\"y=0\"):\n",
        "    positive = y == 1\n",
        "    negative = y == 0\n",
        "    plt.plot(X[positive, 0], X[positive, 1], 'k+', label=pos_label)\n",
        "    plt.plot(X[negative, 0], X[negative, 1], 'yo', label=neg_label) #The positive class is represented by black crosses ('k+'), and the negative class is represented by yellow circles ('yo').\n",
        "plot_data(X_train, y_train[:], pos_label=\"Admitted\", neg_label=\"Not admitted\")\n",
        "plt.ylabel('Exam 2 score')\n",
        "plt.xlabel('Exam 1 score')\n",
        "plt.legend(loc=\"upper right\")\n",
        "plt.show()"
      ],
      "metadata": {
        "colab": {
          "base_uri": "https://localhost:8080/",
          "height": 449
        },
        "id": "320CZpXVmLJ4",
        "outputId": "53fb9401-bd4c-4d28-c100-5bbc1a134bb9"
      },
      "execution_count": 17,
      "outputs": [
        {
          "output_type": "display_data",
          "data": {
            "text/plain": [
              "<Figure size 640x480 with 1 Axes>"
            ],
            "image/png": "[encoded data removed]"
          },
          "metadata": {}
        }
      ]
    },
    {
      "cell_type": "markdown",
      "source": [
        "## Sigmoid Function"
      ],
      "metadata": {
        "id": "IW3hPVZTdA4K"
      }
    },
    {
      "cell_type": "code",
      "source": [
        "def sigmoid(z):\n",
        "    g = 1/(1+np.exp(-z))\n",
        "    return g\n",
        "value = -6\n",
        "print (f\"sigmoid({value}) = {sigmoid(value)}\")"
      ],
      "metadata": {
        "colab": {
          "base_uri": "https://localhost:8080/"
        },
        "id": "q7nzk3eSouZe",
        "outputId": "92d8f296-c96d-41c4-d62d-68ca874a96a2"
      },
      "execution_count": 19,
      "outputs": [
        {
          "output_type": "stream",
          "name": "stdout",
          "text": [
            "sigmoid(-6) = 0.0024726231566347743\n"
          ]
        }
      ]
    },
    {
      "cell_type": "markdown",
      "source": [
        "## Cost function for logistic regression"
      ],
      "metadata": {
        "id": "37Hn5tI0CeOh"
      }
    },
    {
      "cell_type": "code",
      "source": [
        "def compute_cost(X, y, w, b, *argv):\n",
        "    m, n = X.shape\n",
        "    cost = 0\n",
        "    for i in range(m):\n",
        "        z = np.dot(X[i],w) + b\n",
        "        f_wb = sigmoid(z)\n",
        "        cost += -y[i]*np.log(f_wb) - (1-y[i])*np.log(1-f_wb)\n",
        "    total_cost = cost/m\n",
        "    return total_cost\n",
        "test_w = np.array([0.1, 0.1]) #values can be changed according to the dataset\n",
        "test_b = -24.\n",
        "cost = compute_cost(X_train, y_train, test_w, test_b)\n",
        "print('Cost at test w and b (non-zeros): {:.3f}'.format(cost))"
      ],
      "metadata": {
        "colab": {
          "base_uri": "https://localhost:8080/"
        },
        "id": "h8k7at_8ttPW",
        "outputId": "1a5d4e60-044b-422d-d8a7-f2a2d5fa398b"
      },
      "execution_count": 29,
      "outputs": [
        {
          "output_type": "stream",
          "name": "stdout",
          "text": [
            "Cost at test w and b (non-zeros): 5.480\n"
          ]
        }
      ]
    },
    {
      "cell_type": "markdown",
      "source": [
        "## Gradient for logistic regression"
      ],
      "metadata": {
        "id": "ANIiHaaCCVem"
      }
    },
    {
      "cell_type": "code",
      "source": [
        "def compute_gradient(X, y, w, b, lambda_=None):\n",
        "    m, n = X.shape\n",
        "    dj_dw = np.zeros(w.shape)\n",
        "    dj_db = 0.\n",
        "    for i in range(m):\n",
        "        f_wb_i = sigmoid(np.dot(X[i],w) + b)\n",
        "        err_i  = f_wb_i  - y[i]\n",
        "        for j in range(n):\n",
        "            dj_dw[j] = dj_dw[j] + err_i * X[i,j]\n",
        "        dj_db = dj_db + err_i\n",
        "    dj_dw = dj_dw/m\n",
        "    dj_db = dj_db/m\n",
        "    return dj_db, dj_dw\n",
        "test_w = np.array([ 0.2, -0.5])\n",
        "test_b = -24\n",
        "dj_db, dj_dw  = compute_gradient(X_train, y_train, test_w, test_b)\n",
        "\n",
        "print('dj_db at test_w:', dj_db)\n",
        "print('dj_dw at test_w:', dj_dw.tolist())\n"
      ],
      "metadata": {
        "colab": {
          "base_uri": "https://localhost:8080/"
        },
        "id": "kWqD-KrICU-k",
        "outputId": "8a2b67e5-a3ba-44f7-fd1d-402a7b6e9e76"
      },
      "execution_count": 31,
      "outputs": [
        {
          "output_type": "stream",
          "name": "stdout",
          "text": [
            "dj_db at test_w: -0.5999999999991071\n",
            "dj_dw at test_w: [-44.831353617873795, -44.37384124953978]\n"
          ]
        }
      ]
    },
    {
      "cell_type": "markdown",
      "source": [
        "## Finding the optimal parameters of a logistic regression model by using gradient descent."
      ],
      "metadata": {
        "id": "6Hg4HpDYH0lF"
      }
    },
    {
      "cell_type": "code",
      "source": [
        "np.random.seed(1)\n",
        "initial_w = 0.01 * (np.random.rand(2) - 0.5)\n",
        "initial_b = -8\n",
        "iterations = 100000\n",
        "alpha = 0.001\n",
        "\n",
        "w,b, J_history,_ = gradient_descent(X_train ,y_train, initial_w, initial_b,\n",
        "                                   compute_cost, compute_gradient, alpha, iterations, 0)"
      ],
      "metadata": {
        "colab": {
          "base_uri": "https://localhost:8080/"
        },
        "id": "L4p1nLDvJKe3",
        "outputId": "88149ded-9cd7-48b8-cc6a-dcd1c3261d79"
      },
      "execution_count": 33,
      "outputs": [
        {
          "output_type": "stream",
          "name": "stdout",
          "text": [
            "Iteration    0: Cost     0.96   \n",
            "Iteration 10000: Cost     0.30   \n",
            "Iteration 20000: Cost     0.30   \n",
            "Iteration 30000: Cost     0.30   \n",
            "Iteration 40000: Cost     0.29   \n",
            "Iteration 50000: Cost     0.29   \n",
            "Iteration 60000: Cost     0.29   \n",
            "Iteration 70000: Cost     0.28   \n",
            "Iteration 80000: Cost     0.28   \n",
            "Iteration 90000: Cost     0.28   \n",
            "Iteration 99999: Cost     0.28   \n"
          ]
        }
      ]
    },
    {
      "cell_type": "markdown",
      "source": [
        "## Plotting the decision boundary"
      ],
      "metadata": {
        "id": "cqzbVmIhFPpU"
      }
    },
    {
      "cell_type": "code",
      "source": [
        "def plot_decision_boundary(w, b, X, y):\n",
        "    plot_data(X[:, 0:2], y)\n",
        "    plot_x = np.array([min(X[:, 0]), max(X[:, 0])])\n",
        "    plot_y = (-1. / w[1]) * (w[0] * plot_x + b)\n",
        "    plt.plot(plot_x, plot_y, c=\"b\")\n",
        "plot_decision_boundary(w, b, X_train, y_train)\n",
        "plt.ylabel('Exam 2 score')\n",
        "plt.xlabel('Exam 1 score')\n",
        "plt.legend(loc=\"upper right\")\n",
        "plt.show()"
      ],
      "metadata": {
        "colab": {
          "base_uri": "https://localhost:8080/",
          "height": 449
        },
        "id": "IgvDoNqqB4pV",
        "outputId": "02f41e5e-4c32-4c46-b178-6ed2c4c32b25"
      },
      "execution_count": 54,
      "outputs": [
        {
          "output_type": "display_data",
          "data": {
            "text/plain": [
              "<Figure size 640x480 with 1 Axes>"
            ],
            "image/png": "[encoded data removed]"
          },
          "metadata": {}
        }
      ]
    },
    {
      "cell_type": "markdown",
      "source": [
        "## Evaluating logistic regression"
      ],
      "metadata": {
        "id": "2kxG6LupKEZ2"
      }
    },
    {
      "cell_type": "code",
      "source": [
        "def predict(X, w, b):\n",
        "    m, n = X.shape\n",
        "    p = np.zeros(m)\n",
        "    for i in range(m):\n",
        "        z_wb = np.dot(X[i],w)\n",
        "        for j in range(n):\n",
        "            z_wb += 0\n",
        "        z_wb += b\n",
        "        f_wb = sigmoid(z_wb)\n",
        "        p[i] = 1 if f_wb>0.5 else 0\n",
        "    return p\n",
        "np.random.seed(1)\n",
        "tmp_w = np.random.randn(2)\n",
        "tmp_b = 0.3\n",
        "tmp_X = np.random.randn(4, 2) - 0.5\n",
        "\n",
        "tmp_p = predict(tmp_X, tmp_w, tmp_b)\n",
        "print(f'Output of predict: shape {tmp_p.shape}, value {tmp_p}')"
      ],
      "metadata": {
        "colab": {
          "base_uri": "https://localhost:8080/"
        },
        "id": "AXKmhFr0KHG9",
        "outputId": "f3645325-60ba-4631-d26d-63848b315c87"
      },
      "execution_count": 55,
      "outputs": [
        {
          "output_type": "stream",
          "name": "stdout",
          "text": [
            "Output of predict: shape (4,), value [0. 1. 1. 1.]\n"
          ]
        }
      ]
    },
    {
      "cell_type": "markdown",
      "source": [
        "###  ***Computing the accuracy on the training set***\n",
        "\n"
      ],
      "metadata": {
        "id": "oVQzGI07KqJm"
      }
    },
    {
      "cell_type": "code",
      "source": [
        "p = predict(X_train, w,b)\n",
        "print('Train Accuracy: %f'%(np.mean(p == y_train) * 100))"
      ],
      "metadata": {
        "colab": {
          "base_uri": "https://localhost:8080/"
        },
        "id": "WPrxWalSK05q",
        "outputId": "5f9b53e0-2b37-42d4-ca9d-8608a8b7c600"
      },
      "execution_count": 56,
      "outputs": [
        {
          "output_type": "stream",
          "name": "stdout",
          "text": [
            "Train Accuracy: 91.000000\n"
          ]
        }
      ]
    }
  ]
}